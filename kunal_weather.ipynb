{
  "nbformat": 4,
  "nbformat_minor": 0,
  "metadata": {
    "colab": {
      "provenance": [],
      "authorship_tag": "ABX9TyP+hvTWZLr+z3vB/9Ax+7Ea",
      "include_colab_link": true
    },
    "kernelspec": {
      "name": "python3",
      "display_name": "Python 3"
    },
    "language_info": {
      "name": "python"
    }
  },
  "cells": [
    {
      "cell_type": "markdown",
      "metadata": {
        "id": "view-in-github",
        "colab_type": "text"
      },
      "source": [
        "<a href=\"https://colab.research.google.com/github/krupajshetty/Task-1/blob/main/kunal_weather.ipynb\" target=\"_parent\"><img src=\"https://colab.research.google.com/assets/colab-badge.svg\" alt=\"Open In Colab\"/></a>"
      ]
    },
    {
      "cell_type": "code",
      "execution_count": 1,
      "metadata": {
        "id": "XemMOI5DlTV1"
      },
      "outputs": [],
      "source": [
        "#importing the Libraries\n",
        "import requests\n",
        "import json"
      ]
    },
    {
      "cell_type": "code",
      "source": [
        "#api endpoint with city name\n",
        "url = 'https://api.openweathermap.org/data/2.5/weather?lat=44.34&lon=10.99&appid=b6c65d90f1e4dcd7a0ab2ade0c673b8e'"
      ],
      "metadata": {
        "id": "MefHOe-alZpo"
      },
      "execution_count": 2,
      "outputs": []
    },
    {
      "cell_type": "code",
      "source": [
        "#get request to get a response from the server\n",
        "response = requests.get (url)"
      ],
      "metadata": {
        "id": "-y33GUbMlbhY"
      },
      "execution_count": 3,
      "outputs": []
    },
    {
      "cell_type": "code",
      "source": [
        "response.status_code"
      ],
      "metadata": {
        "colab": {
          "base_uri": "https://localhost:8080/"
        },
        "id": "UF8xcNXJlgVW",
        "outputId": "81ecfd26-688f-4e70-d566-b4942229445c"
      },
      "execution_count": 4,
      "outputs": [
        {
          "output_type": "execute_result",
          "data": {
            "text/plain": [
              "200"
            ]
          },
          "metadata": {},
          "execution_count": 4
        }
      ]
    },
    {
      "cell_type": "code",
      "source": [
        "#extracting only json data from the response\n",
        "data=response.json()"
      ],
      "metadata": {
        "id": "fmjQ88kslrRw"
      },
      "execution_count": 5,
      "outputs": []
    },
    {
      "cell_type": "code",
      "source": [
        "data"
      ],
      "metadata": {
        "colab": {
          "base_uri": "https://localhost:8080/"
        },
        "id": "DkeChWiIlvWK",
        "outputId": "82312edf-b3b5-444c-af51-2c35b679044b"
      },
      "execution_count": 6,
      "outputs": [
        {
          "output_type": "execute_result",
          "data": {
            "text/plain": [
              "{'coord': {'lon': 10.99, 'lat': 44.34},\n",
              " 'weather': [{'id': 800,\n",
              "   'main': 'Clear',\n",
              "   'description': 'clear sky',\n",
              "   'icon': '01d'}],\n",
              " 'base': 'stations',\n",
              " 'main': {'temp': 297.96,\n",
              "  'feels_like': 298.45,\n",
              "  'temp_min': 297.96,\n",
              "  'temp_max': 300.42,\n",
              "  'pressure': 1012,\n",
              "  'humidity': 75,\n",
              "  'sea_level': 1012,\n",
              "  'grnd_level': 946},\n",
              " 'visibility': 10000,\n",
              " 'wind': {'speed': 0.68, 'deg': 1, 'gust': 0.67},\n",
              " 'clouds': {'all': 0},\n",
              " 'dt': 1723533222,\n",
              " 'sys': {'type': 2,\n",
              "  'id': 2004688,\n",
              "  'country': 'IT',\n",
              "  'sunrise': 1723522634,\n",
              "  'sunset': 1723573481},\n",
              " 'timezone': 7200,\n",
              " 'id': 3163858,\n",
              " 'name': 'Zocca',\n",
              " 'cod': 200}"
            ]
          },
          "metadata": {},
          "execution_count": 6
        }
      ]
    },
    {
      "cell_type": "code",
      "source": [
        "#accessing the json elements like a dictionary\n",
        "data['base']"
      ],
      "metadata": {
        "colab": {
          "base_uri": "https://localhost:8080/",
          "height": 35
        },
        "id": "4adFm8mZlxfV",
        "outputId": "544333ea-df78-48c0-994f-cf510bb00288"
      },
      "execution_count": 8,
      "outputs": [
        {
          "output_type": "execute_result",
          "data": {
            "text/plain": [
              "'stations'"
            ],
            "application/vnd.google.colaboratory.intrinsic+json": {
              "type": "string"
            }
          },
          "metadata": {},
          "execution_count": 8
        }
      ]
    },
    {
      "cell_type": "code",
      "source": [
        "data['weather'][0]['main']"
      ],
      "metadata": {
        "colab": {
          "base_uri": "https://localhost:8080/",
          "height": 35
        },
        "id": "UYQwXM_Xnt6L",
        "outputId": "35224c75-7cf7-43a9-970d-44c42f644026"
      },
      "execution_count": 9,
      "outputs": [
        {
          "output_type": "execute_result",
          "data": {
            "text/plain": [
              "'Clear'"
            ],
            "application/vnd.google.colaboratory.intrinsic+json": {
              "type": "string"
            }
          },
          "metadata": {},
          "execution_count": 9
        }
      ]
    },
    {
      "cell_type": "code",
      "source": [
        "round(data['main']['temp']- 273.15)"
      ],
      "metadata": {
        "colab": {
          "base_uri": "https://localhost:8080/"
        },
        "id": "cETAus4Un8nx",
        "outputId": "508fda8d-40e5-4762-a233-3a347ecfad0c"
      },
      "execution_count": 10,
      "outputs": [
        {
          "output_type": "execute_result",
          "data": {
            "text/plain": [
              "25"
            ]
          },
          "metadata": {},
          "execution_count": 10
        }
      ]
    },
    {
      "cell_type": "code",
      "source": [
        "#taking user input to show the weather details of any city\n",
        "city_name = input( 'Enter the city name: ')\n",
        "url2 = 'https://api.openweathermap.org/data/2.5/weather?q='+city_name+'&appid=b6c65d90f1e4dcd7a0ab2ade0c673b8e'\n",
        "response2 = requests.get (url2)\n",
        "data2 = response2.json ()\n",
        "if response2.status_code == 200:\n",
        "  print('Weather: ',data2['weather'][0][ 'main'])\n",
        "  print('City: ',data2['name'])\n",
        "  print('Temperature: ',round(data2['main']['temp'] - 273.15))\n",
        "else:\n",
        "  print(\"Enter the correct city please\")"
      ],
      "metadata": {
        "colab": {
          "base_uri": "https://localhost:8080/"
        },
        "id": "CSTzPKSXpJsA",
        "outputId": "b8606b8f-c586-4b2b-fd59-3a211c0d1511"
      },
      "execution_count": 15,
      "outputs": [
        {
          "output_type": "stream",
          "name": "stdout",
          "text": [
            "Enter the city name: Bengaluru\n",
            "Weather:  Clouds\n",
            "City:  Bengaluru\n",
            "Temperature:  29\n"
          ]
        }
      ]
    }
  ]
}